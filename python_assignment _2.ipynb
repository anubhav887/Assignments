{
 "cells": [
  {
   "cell_type": "code",
   "execution_count": 1,
   "source": [
    "\"\"\" creating a pattern using nested loop in python \"\"\"\r\n",
    "n = 5 \r\n",
    "for i in range(n):\r\n",
    "    for j in range(i+1):\r\n",
    "        print(\"*\",end=\" \")\r\n",
    "    print(\"\\r\")\r\n",
    "\r\n",
    "for k in range(n,0,-1):\r\n",
    "    for l in range(k-1,0,-1):\r\n",
    "        print(\"*\",end=\" \")\r\n",
    "    print(\"\\r\")\r\n",
    "\r\n"
   ],
   "outputs": [
    {
     "output_type": "stream",
     "name": "stdout",
     "text": [
      "* \n",
      "* * \n",
      "* * * \n",
      "* * * * \n",
      "* * * * * \n",
      "* * * * \n",
      "* * * \n",
      "* * \n",
      "* \n",
      "\n"
     ]
    }
   ],
   "metadata": {}
  },
  {
   "cell_type": "code",
   "execution_count": 2,
   "source": [
    "\"\"\" Write a Python program to reverse a word after accepting the input from the user.\"\"\"\r\n",
    "\r\n",
    "word = input(\"enter the word\")\r\n",
    "\r\n",
    "result = word[::-1]\r\n",
    "\r\n",
    "print(\"your word is: \",word)\r\n",
    "\r\n",
    "print(\"The revrese of your word is: \",result)"
   ],
   "outputs": [
    {
     "output_type": "stream",
     "name": "stdout",
     "text": [
      "your word is:  anubhav\n",
      "The revrese of your word is:  vahbuna\n"
     ]
    }
   ],
   "metadata": {}
  },
  {
   "cell_type": "code",
   "execution_count": null,
   "source": [],
   "outputs": [],
   "metadata": {}
  }
 ],
 "metadata": {
  "orig_nbformat": 4,
  "language_info": {
   "name": "python",
   "version": "3.9.6",
   "mimetype": "text/x-python",
   "codemirror_mode": {
    "name": "ipython",
    "version": 3
   },
   "pygments_lexer": "ipython3",
   "nbconvert_exporter": "python",
   "file_extension": ".py"
  },
  "kernelspec": {
   "name": "python3",
   "display_name": "Python 3.9.6 64-bit"
  },
  "interpreter": {
   "hash": "6b592ac526162122101587274579b4e5451767b7ec52a62e51ad12840d552a02"
  }
 },
 "nbformat": 4,
 "nbformat_minor": 2
}