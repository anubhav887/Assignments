{
 "cells": [
  {
   "cell_type": "code",
   "execution_count": null,
   "source": [
    "# 1.1 Write a Python Program to implement your own myreduce() function which works exactly like Python's built-in function reduce()\r\n",
    "\r\n",
    "def myreduce(add,list_1):\r\n",
    "    return a\r\n",
    "\r\n",
    "list_1 = [1,2,3,4,5,6]\r\n",
    "a=list_1[0]\r\n",
    "\r\n",
    "def add(a,b):\r\n",
    "    return a+b\r\n",
    "\r\n",
    "for i in range(1,len(list_1)):\r\n",
    "        b = list_1[i]\r\n",
    "        a = add(a,b)\r\n",
    "\r\n",
    "print(myreduce(add,list_1))\r\n",
    "\r\n"
   ],
   "outputs": [],
   "metadata": {}
  },
  {
   "cell_type": "code",
   "execution_count": null,
   "source": [
    "# 1.2 Write a Python program to implement your own myfilter() function which works exactly like Python's built-in function filter()\r\n",
    "\r\n",
    "def myfilter(is_even,list_1):\r\n",
    "    return is_even(list_1)\r\n",
    "\r\n",
    "list_1=[2,3,4,5,6,7,8,9,10]\r\n",
    "\r\n",
    "list_2=[]\r\n",
    "\r\n",
    "def is_even(list_1):\r\n",
    "    for i in list_1:\r\n",
    "        if i%2==0:\r\n",
    "            list_2.append(i)\r\n",
    "    print(list_2)\r\n",
    "\r\n",
    "myfilter(is_even,list_1)\r\n"
   ],
   "outputs": [],
   "metadata": {}
  },
  {
   "cell_type": "code",
   "execution_count": 20,
   "source": [
    "# implement the given pattern using list comprehensions \r\n",
    "\r\n",
    "# ['x', 'xx', 'xxx', 'xxxx', 'y', 'yy', 'yyy', 'yyyy', 'z', 'zz', 'zzz', 'zzzz']\r\n",
    "\r\n",
    "p=[]\r\n",
    "l=[\"x\",\"y\",\"z\"]\r\n",
    "\r\n",
    "[p.append(l[i]*j) for i in range(3) for j in range(1,5)]\r\n",
    "p"
   ],
   "outputs": [
    {
     "output_type": "execute_result",
     "data": {
      "text/plain": [
       "['x', 'xx', 'xxx', 'xxxx', 'y', 'yy', 'yyy', 'yyyy', 'z', 'zz', 'zzz', 'zzzz']"
      ]
     },
     "metadata": {},
     "execution_count": 20
    }
   ],
   "metadata": {}
  },
  {
   "cell_type": "code",
   "execution_count": 21,
   "source": [
    "# ['x', 'y', 'z', 'xx', 'yy', 'zz', 'xxx', 'yyy', 'zzz', 'xxxx', 'yyyy', 'zzzz']\r\n",
    "\r\n",
    "p=[]\r\n",
    "l=[\"x\",\"y\",\"z\"]\r\n",
    "\r\n",
    "[p.append(l[j]*i) for i in range(1,5) for j in range(3)]\r\n",
    "\r\n",
    "p"
   ],
   "outputs": [
    {
     "output_type": "execute_result",
     "data": {
      "text/plain": [
       "['x', 'y', 'z', 'xx', 'yy', 'zz', 'xxx', 'yyy', 'zzz', 'xxxx', 'yyyy', 'zzzz']"
      ]
     },
     "metadata": {},
     "execution_count": 21
    }
   ],
   "metadata": {}
  },
  {
   "cell_type": "code",
   "execution_count": 22,
   "source": [
    "# [[2], [3], [4], [3], [4], [5], [4], [5], [6]]\r\n",
    "\r\n",
    "l=[2,3,4,5,6]\r\n",
    "p=[]\r\n",
    "\r\n",
    "[p.append([l[j]+i]) for i in range(3) for j in range(3)]\r\n",
    "p"
   ],
   "outputs": [
    {
     "output_type": "execute_result",
     "data": {
      "text/plain": [
       "[[2], [3], [4], [3], [4], [5], [4], [5], [6]]"
      ]
     },
     "metadata": {},
     "execution_count": 22
    }
   ],
   "metadata": {}
  },
  {
   "cell_type": "code",
   "execution_count": 23,
   "source": [
    "# [[2, 3, 4, 5], [3, 4, 5, 6],[4, 5, 6, 7], [5, 6, 7, 8]]\r\n",
    "\r\n",
    "\r\n",
    "l=[2,3,4,5,6,7,8]\r\n",
    "\r\n",
    "[[l[j] + i for j in range(4)] for i in range(4)]\r\n"
   ],
   "outputs": [
    {
     "output_type": "execute_result",
     "data": {
      "text/plain": [
       "[[2, 3, 4, 5], [3, 4, 5, 6], [4, 5, 6, 7], [5, 6, 7, 8]]"
      ]
     },
     "metadata": {},
     "execution_count": 23
    }
   ],
   "metadata": {}
  },
  {
   "cell_type": "code",
   "execution_count": 24,
   "source": [
    "# [(1, 1), (2, 1), (3, 1), (1, 2), (2, 2), (3, 2), (1, 3), (2, 3), (3, 3)]\r\n",
    "\r\n",
    "l=[1,2,3]\r\n",
    "\r\n",
    "p=[]\r\n",
    "\r\n",
    "[p.append((j,i)) for i in range(1,4) for j in range(1,4)]\r\n",
    "\r\n",
    "p\r\n"
   ],
   "outputs": [
    {
     "output_type": "execute_result",
     "data": {
      "text/plain": [
       "[(1, 1), (2, 1), (3, 1), (1, 2), (2, 2), (3, 2), (1, 3), (2, 3), (3, 3)]"
      ]
     },
     "metadata": {},
     "execution_count": 24
    }
   ],
   "metadata": {}
  }
 ],
 "metadata": {
  "orig_nbformat": 4,
  "language_info": {
   "name": "python",
   "version": "3.9.6",
   "mimetype": "text/x-python",
   "codemirror_mode": {
    "name": "ipython",
    "version": 3
   },
   "pygments_lexer": "ipython3",
   "nbconvert_exporter": "python",
   "file_extension": ".py"
  },
  "kernelspec": {
   "name": "python3",
   "display_name": "Python 3.9.6 64-bit"
  },
  "interpreter": {
   "hash": "6b592ac526162122101587274579b4e5451767b7ec52a62e51ad12840d552a02"
  }
 },
 "nbformat": 4,
 "nbformat_minor": 2
}